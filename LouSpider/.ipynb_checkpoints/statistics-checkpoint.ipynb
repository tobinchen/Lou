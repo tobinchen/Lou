{
 "cells": [
  {
   "cell_type": "code",
   "execution_count": 130,
   "metadata": {
    "collapsed": true
   },
   "outputs": [],
   "source": [
    "%matplotlib inline\n",
    "\n",
    "import pandas as pd\n",
    "import numpy as np\n",
    "import matplotlib.pyplot as plt"
   ]
  },
  {
   "cell_type": "code",
   "execution_count": 138,
   "metadata": {
    "collapsed": false
   },
   "outputs": [
    {
     "data": {
      "text/html": [
       "<div>\n",
       "<table border=\"1\" class=\"dataframe\">\n",
       "  <thead>\n",
       "    <tr style=\"text-align: right;\">\n",
       "      <th></th>\n",
       "      <th>lou</th>\n",
       "      <th>square</th>\n",
       "      <th>number</th>\n",
       "      <th>amount</th>\n",
       "      <th>price</th>\n",
       "    </tr>\n",
       "    <tr>\n",
       "      <th>date</th>\n",
       "      <th></th>\n",
       "      <th></th>\n",
       "      <th></th>\n",
       "      <th></th>\n",
       "      <th></th>\n",
       "    </tr>\n",
       "  </thead>\n",
       "  <tbody>\n",
       "    <tr>\n",
       "      <th>2013-03-01</th>\n",
       "      <td>旧城</td>\n",
       "      <td>98748.49</td>\n",
       "      <td>1061</td>\n",
       "      <td>5.039039e+08</td>\n",
       "      <td>5102.90</td>\n",
       "    </tr>\n",
       "    <tr>\n",
       "      <th>2013-03-01</th>\n",
       "      <td>龙塘</td>\n",
       "      <td>27536.25</td>\n",
       "      <td>271</td>\n",
       "      <td>1.379142e+08</td>\n",
       "      <td>5008.46</td>\n",
       "    </tr>\n",
       "    <tr>\n",
       "      <th>2013-03-01</th>\n",
       "      <td>石角</td>\n",
       "      <td>30446.36</td>\n",
       "      <td>336</td>\n",
       "      <td>1.585306e+08</td>\n",
       "      <td>5206.88</td>\n",
       "    </tr>\n",
       "    <tr>\n",
       "      <th>2013-03-01</th>\n",
       "      <td>新城</td>\n",
       "      <td>117987.97</td>\n",
       "      <td>1039</td>\n",
       "      <td>6.636697e+08</td>\n",
       "      <td>5624.89</td>\n",
       "    </tr>\n",
       "    <tr>\n",
       "      <th>2013-03-01</th>\n",
       "      <td>源潭</td>\n",
       "      <td>1303.43</td>\n",
       "      <td>10</td>\n",
       "      <td>2.985502e+06</td>\n",
       "      <td>2290.50</td>\n",
       "    </tr>\n",
       "    <tr>\n",
       "      <th>2012-11-01</th>\n",
       "      <td>旧城</td>\n",
       "      <td>61080.10</td>\n",
       "      <td>582</td>\n",
       "      <td>3.258070e+08</td>\n",
       "      <td>5334.09</td>\n",
       "    </tr>\n",
       "  </tbody>\n",
       "</table>\n",
       "</div>"
      ],
      "text/plain": [
       "           lou     square  number        amount    price\n",
       "date                                                    \n",
       "2013-03-01  旧城   98748.49    1061  5.039039e+08  5102.90\n",
       "2013-03-01  龙塘   27536.25     271  1.379142e+08  5008.46\n",
       "2013-03-01  石角   30446.36     336  1.585306e+08  5206.88\n",
       "2013-03-01  新城  117987.97    1039  6.636697e+08  5624.89\n",
       "2013-03-01  源潭    1303.43      10  2.985502e+06  2290.50\n",
       "2012-11-01  旧城   61080.10     582  3.258070e+08  5334.09"
      ]
     },
     "execution_count": 138,
     "metadata": {},
     "output_type": "execute_result"
    }
   ],
   "source": [
    "louDf=pd.read_csv(\"result.txt\",header=None,names=['date','lou','square','number','amount','price'],parse_dates=True,index_col=['date'])\n",
    "louDf.head(6)"
   ]
  },
  {
   "cell_type": "code",
   "execution_count": 132,
   "metadata": {
    "collapsed": false
   },
   "outputs": [
    {
     "data": {
      "text/html": [
       "<div>\n",
       "<table border=\"1\" class=\"dataframe\">\n",
       "  <thead>\n",
       "    <tr style=\"text-align: right;\">\n",
       "      <th></th>\n",
       "      <th>lou</th>\n",
       "      <th>square</th>\n",
       "      <th>number</th>\n",
       "      <th>amount</th>\n",
       "      <th>price</th>\n",
       "    </tr>\n",
       "    <tr>\n",
       "      <th>date</th>\n",
       "      <th></th>\n",
       "      <th></th>\n",
       "      <th></th>\n",
       "      <th></th>\n",
       "      <th></th>\n",
       "    </tr>\n",
       "  </thead>\n",
       "  <tbody>\n",
       "    <tr>\n",
       "      <th>2013-03-01</th>\n",
       "      <td>新城</td>\n",
       "      <td>117987.97</td>\n",
       "      <td>1039</td>\n",
       "      <td>6.636697e+08</td>\n",
       "      <td>5624.89</td>\n",
       "    </tr>\n",
       "    <tr>\n",
       "      <th>2012-11-01</th>\n",
       "      <td>新城</td>\n",
       "      <td>104795.50</td>\n",
       "      <td>1061</td>\n",
       "      <td>6.167081e+08</td>\n",
       "      <td>5884.87</td>\n",
       "    </tr>\n",
       "  </tbody>\n",
       "</table>\n",
       "</div>"
      ],
      "text/plain": [
       "           lou     square  number        amount    price\n",
       "date                                                    \n",
       "2013-03-01  新城  117987.97    1039  6.636697e+08  5624.89\n",
       "2012-11-01  新城  104795.50    1061  6.167081e+08  5884.87"
      ]
     },
     "execution_count": 132,
     "metadata": {},
     "output_type": "execute_result"
    }
   ],
   "source": [
    "xc=louDf[louDf['lou']=='新城']\n",
    "xc.head(2)"
   ]
  },
  {
   "cell_type": "code",
   "execution_count": 141,
   "metadata": {
    "collapsed": false,
    "scrolled": true
   },
   "outputs": [],
   "source": [
    "#dt=xc.loc[:,['date','price']]\n",
    "#dt=dt.set_index('date')\n",
    "#dt=dt.sort()\n",
    "#dt.sort_index(by='price')\n",
    "#dt[0:12]\n",
    "\n",
    "dt=xc.loc[:,['price']]\n",
    "dt=xc.loc[:,]"
   ]
  },
  {
   "cell_type": "code",
   "execution_count": 142,
   "metadata": {
    "collapsed": false
   },
   "outputs": [
    {
     "data": {
      "text/html": [
       "<div>\n",
       "<table border=\"1\" class=\"dataframe\">\n",
       "  <thead>\n",
       "    <tr style=\"text-align: right;\">\n",
       "      <th></th>\n",
       "      <th>square</th>\n",
       "      <th>number</th>\n",
       "      <th>amount</th>\n",
       "      <th>price</th>\n",
       "    </tr>\n",
       "    <tr>\n",
       "      <th>date</th>\n",
       "      <th></th>\n",
       "      <th></th>\n",
       "      <th></th>\n",
       "      <th></th>\n",
       "    </tr>\n",
       "  </thead>\n",
       "  <tbody>\n",
       "    <tr>\n",
       "      <th>2006-01-31</th>\n",
       "      <td>28587.31</td>\n",
       "      <td>188</td>\n",
       "      <td>6.578295e+07</td>\n",
       "      <td>2301.12</td>\n",
       "    </tr>\n",
       "    <tr>\n",
       "      <th>2006-02-28</th>\n",
       "      <td>49013.92</td>\n",
       "      <td>265</td>\n",
       "      <td>1.492607e+08</td>\n",
       "      <td>3045.27</td>\n",
       "    </tr>\n",
       "    <tr>\n",
       "      <th>2006-03-31</th>\n",
       "      <td>55000.99</td>\n",
       "      <td>240</td>\n",
       "      <td>1.557086e+08</td>\n",
       "      <td>2831.02</td>\n",
       "    </tr>\n",
       "  </tbody>\n",
       "</table>\n",
       "</div>"
      ],
      "text/plain": [
       "              square  number        amount    price\n",
       "date                                               \n",
       "2006-01-31  28587.31     188  6.578295e+07  2301.12\n",
       "2006-02-28  49013.92     265  1.492607e+08  3045.27\n",
       "2006-03-31  55000.99     240  1.557086e+08  2831.02"
      ]
     },
     "execution_count": 142,
     "metadata": {},
     "output_type": "execute_result"
    }
   ],
   "source": [
    "grouper=pd.TimeGrouper(freq='M')\n",
    "g=dt.groupby(grouper)\n",
    "g.mean().head(3)"
   ]
  },
  {
   "cell_type": "code",
   "execution_count": 183,
   "metadata": {
    "collapsed": false
   },
   "outputs": [
    {
     "data": {
      "text/html": [
       "<div>\n",
       "<table border=\"1\" class=\"dataframe\">\n",
       "  <thead>\n",
       "    <tr style=\"text-align: right;\">\n",
       "      <th></th>\n",
       "      <th></th>\n",
       "      <th>square</th>\n",
       "      <th>number</th>\n",
       "      <th>amount</th>\n",
       "      <th>price</th>\n",
       "    </tr>\n",
       "  </thead>\n",
       "  <tbody>\n",
       "    <tr>\n",
       "      <th rowspan=\"8\" valign=\"top\">1</th>\n",
       "      <th>count</th>\n",
       "      <td>10.00000</td>\n",
       "      <td>10.000000</td>\n",
       "      <td>1.000000e+01</td>\n",
       "      <td>10.0000</td>\n",
       "    </tr>\n",
       "    <tr>\n",
       "      <th>mean</th>\n",
       "      <td>59835.21500</td>\n",
       "      <td>544.900000</td>\n",
       "      <td>3.170363e+08</td>\n",
       "      <td>4828.7320</td>\n",
       "    </tr>\n",
       "    <tr>\n",
       "      <th>std</th>\n",
       "      <td>33940.56076</td>\n",
       "      <td>319.607554</td>\n",
       "      <td>2.492026e+08</td>\n",
       "      <td>1898.2190</td>\n",
       "    </tr>\n",
       "    <tr>\n",
       "      <th>min</th>\n",
       "      <td>27476.31000</td>\n",
       "      <td>188.000000</td>\n",
       "      <td>6.578295e+07</td>\n",
       "      <td>2301.1200</td>\n",
       "    </tr>\n",
       "    <tr>\n",
       "      <th>25%</th>\n",
       "      <td>31777.79500</td>\n",
       "      <td>283.250000</td>\n",
       "      <td>1.135106e+08</td>\n",
       "      <td>3251.7375</td>\n",
       "    </tr>\n",
       "    <tr>\n",
       "      <th>50%</th>\n",
       "      <td>47860.03000</td>\n",
       "      <td>482.000000</td>\n",
       "      <td>2.426025e+08</td>\n",
       "      <td>4923.1200</td>\n",
       "    </tr>\n",
       "    <tr>\n",
       "      <th>75%</th>\n",
       "      <td>81147.98000</td>\n",
       "      <td>735.500000</td>\n",
       "      <td>4.211219e+08</td>\n",
       "      <td>5893.7400</td>\n",
       "    </tr>\n",
       "    <tr>\n",
       "      <th>max</th>\n",
       "      <td>125286.80000</td>\n",
       "      <td>1136.000000</td>\n",
       "      <td>7.668285e+08</td>\n",
       "      <td>8058.9600</td>\n",
       "    </tr>\n",
       "    <tr>\n",
       "      <th rowspan=\"2\" valign=\"top\">2</th>\n",
       "      <th>count</th>\n",
       "      <td>10.00000</td>\n",
       "      <td>10.000000</td>\n",
       "      <td>1.000000e+01</td>\n",
       "      <td>10.0000</td>\n",
       "    </tr>\n",
       "    <tr>\n",
       "      <th>mean</th>\n",
       "      <td>44674.01700</td>\n",
       "      <td>436.900000</td>\n",
       "      <td>2.181902e+08</td>\n",
       "      <td>4710.4960</td>\n",
       "    </tr>\n",
       "  </tbody>\n",
       "</table>\n",
       "</div>"
      ],
      "text/plain": [
       "               square       number        amount      price\n",
       "1 count      10.00000    10.000000  1.000000e+01    10.0000\n",
       "  mean    59835.21500   544.900000  3.170363e+08  4828.7320\n",
       "  std     33940.56076   319.607554  2.492026e+08  1898.2190\n",
       "  min     27476.31000   188.000000  6.578295e+07  2301.1200\n",
       "  25%     31777.79500   283.250000  1.135106e+08  3251.7375\n",
       "  50%     47860.03000   482.000000  2.426025e+08  4923.1200\n",
       "  75%     81147.98000   735.500000  4.211219e+08  5893.7400\n",
       "  max    125286.80000  1136.000000  7.668285e+08  8058.9600\n",
       "2 count      10.00000    10.000000  1.000000e+01    10.0000\n",
       "  mean    44674.01700   436.900000  2.181902e+08  4710.4960"
      ]
     },
     "execution_count": 183,
     "metadata": {},
     "output_type": "execute_result"
    }
   ],
   "source": [
    "def fun(x):\n",
    "    return x.name.month\n",
    "\n",
    "x=xc.apply( fun ,axis=1)\n",
    "x\n",
    "\n",
    "xcm=xc.groupby(x)\n",
    "\n",
    "xcm.describe().head(10)"
   ]
  },
  {
   "cell_type": "code",
   "execution_count": 193,
   "metadata": {
    "collapsed": false
   },
   "outputs": [
    {
     "data": {
      "text/html": [
       "<div>\n",
       "<table border=\"1\" class=\"dataframe\">\n",
       "  <thead>\n",
       "    <tr style=\"text-align: right;\">\n",
       "      <th></th>\n",
       "      <th>square</th>\n",
       "      <th>number</th>\n",
       "      <th>amount</th>\n",
       "      <th>price</th>\n",
       "    </tr>\n",
       "  </thead>\n",
       "  <tbody>\n",
       "    <tr>\n",
       "      <th>1</th>\n",
       "      <td>59835.215000</td>\n",
       "      <td>544.900000</td>\n",
       "      <td>3.170363e+08</td>\n",
       "      <td>4828.732000</td>\n",
       "    </tr>\n",
       "    <tr>\n",
       "      <th>2</th>\n",
       "      <td>44674.017000</td>\n",
       "      <td>436.900000</td>\n",
       "      <td>2.181902e+08</td>\n",
       "      <td>4710.496000</td>\n",
       "    </tr>\n",
       "    <tr>\n",
       "      <th>3</th>\n",
       "      <td>73862.819000</td>\n",
       "      <td>643.000000</td>\n",
       "      <td>3.620229e+08</td>\n",
       "      <td>4722.867000</td>\n",
       "    </tr>\n",
       "    <tr>\n",
       "      <th>4</th>\n",
       "      <td>65907.216000</td>\n",
       "      <td>638.200000</td>\n",
       "      <td>3.271875e+08</td>\n",
       "      <td>4644.147000</td>\n",
       "    </tr>\n",
       "    <tr>\n",
       "      <th>5</th>\n",
       "      <td>72101.213000</td>\n",
       "      <td>685.300000</td>\n",
       "      <td>3.686044e+08</td>\n",
       "      <td>4725.799000</td>\n",
       "    </tr>\n",
       "    <tr>\n",
       "      <th>6</th>\n",
       "      <td>71645.116000</td>\n",
       "      <td>614.300000</td>\n",
       "      <td>3.686403e+08</td>\n",
       "      <td>5076.829000</td>\n",
       "    </tr>\n",
       "    <tr>\n",
       "      <th>7</th>\n",
       "      <td>73474.157000</td>\n",
       "      <td>619.100000</td>\n",
       "      <td>4.052835e+08</td>\n",
       "      <td>5287.770000</td>\n",
       "    </tr>\n",
       "    <tr>\n",
       "      <th>8</th>\n",
       "      <td>66660.960000</td>\n",
       "      <td>584.900000</td>\n",
       "      <td>3.636580e+08</td>\n",
       "      <td>5138.997000</td>\n",
       "    </tr>\n",
       "    <tr>\n",
       "      <th>9</th>\n",
       "      <td>74553.973000</td>\n",
       "      <td>654.000000</td>\n",
       "      <td>3.839535e+08</td>\n",
       "      <td>4846.449000</td>\n",
       "    </tr>\n",
       "    <tr>\n",
       "      <th>10</th>\n",
       "      <td>79491.945556</td>\n",
       "      <td>670.888889</td>\n",
       "      <td>4.332965e+08</td>\n",
       "      <td>4976.257778</td>\n",
       "    </tr>\n",
       "    <tr>\n",
       "      <th>11</th>\n",
       "      <td>89910.217778</td>\n",
       "      <td>738.666667</td>\n",
       "      <td>4.843589e+08</td>\n",
       "      <td>5189.351111</td>\n",
       "    </tr>\n",
       "    <tr>\n",
       "      <th>12</th>\n",
       "      <td>70787.957778</td>\n",
       "      <td>628.666667</td>\n",
       "      <td>3.693851e+08</td>\n",
       "      <td>5028.572222</td>\n",
       "    </tr>\n",
       "  </tbody>\n",
       "</table>\n",
       "</div>"
      ],
      "text/plain": [
       "          square      number        amount        price\n",
       "1   59835.215000  544.900000  3.170363e+08  4828.732000\n",
       "2   44674.017000  436.900000  2.181902e+08  4710.496000\n",
       "3   73862.819000  643.000000  3.620229e+08  4722.867000\n",
       "4   65907.216000  638.200000  3.271875e+08  4644.147000\n",
       "5   72101.213000  685.300000  3.686044e+08  4725.799000\n",
       "6   71645.116000  614.300000  3.686403e+08  5076.829000\n",
       "7   73474.157000  619.100000  4.052835e+08  5287.770000\n",
       "8   66660.960000  584.900000  3.636580e+08  5138.997000\n",
       "9   74553.973000  654.000000  3.839535e+08  4846.449000\n",
       "10  79491.945556  670.888889  4.332965e+08  4976.257778\n",
       "11  89910.217778  738.666667  4.843589e+08  5189.351111\n",
       "12  70787.957778  628.666667  3.693851e+08  5028.572222"
      ]
     },
     "execution_count": 193,
     "metadata": {},
     "output_type": "execute_result"
    },
    {
     "data": {
      "image/png": "[encoded data removed]",
      "text/plain": [
       "<matplotlib.figure.Figure at 0x10e545b10>"
      ]
     },
     "metadata": {},
     "output_type": "display_data"
    }
   ],
   "source": [
    "xcm.std()['price'].plot(legend=True,label=\"std price\")\n",
    "xcm.mean()['price'].plot(legend=True,label=\"mean price\")\n",
    "xcm.max()['price'].plot(legend=True,label=\"max price\")\n",
    "xcm.mean()"
   ]
  },
  {
   "cell_type": "code",
   "execution_count": 194,
   "metadata": {
    "collapsed": false
   },
   "outputs": [
    {
     "data": {
      "text/plain": [
       "<matplotlib.axes.AxesSubplot at 0x10e5095d0>"
      ]
     },
     "execution_count": 194,
     "metadata": {},
     "output_type": "execute_result"
    },
    {
     "data": {
      "image/png": "[encoded data removed]",
      "text/plain": [
       "<matplotlib.figure.Figure at 0x10db27450>"
      ]
     },
     "metadata": {},
     "output_type": "display_data"
    }
   ],
   "source": [
    "xcm.std()['number'].plot(legend=True,label=\"std number\")\n",
    "xcm.mean()['number'].plot(legend=True,label=\"mean number\")\n",
    "xcm.max()['number'].plot(legend=True,label=\"max number\")"
   ]
  },
  {
   "cell_type": "code",
   "execution_count": 139,
   "metadata": {
    "collapsed": false
   },
   "outputs": [
    {
     "data": {
      "text/html": [
       "<div>\n",
       "<table border=\"1\" class=\"dataframe\">\n",
       "  <thead>\n",
       "    <tr style=\"text-align: right;\">\n",
       "      <th></th>\n",
       "      <th>price</th>\n",
       "    </tr>\n",
       "    <tr>\n",
       "      <th>date</th>\n",
       "      <th></th>\n",
       "    </tr>\n",
       "  </thead>\n",
       "  <tbody>\n",
       "    <tr>\n",
       "      <th>2012-03-01</th>\n",
       "      <td>6668.77</td>\n",
       "    </tr>\n",
       "    <tr>\n",
       "      <th>2012-02-01</th>\n",
       "      <td>6595.06</td>\n",
       "    </tr>\n",
       "    <tr>\n",
       "      <th>2012-01-01</th>\n",
       "      <td>8058.96</td>\n",
       "    </tr>\n",
       "    <tr>\n",
       "      <th>2011-12-01</th>\n",
       "      <td>8510.98</td>\n",
       "    </tr>\n",
       "    <tr>\n",
       "      <th>2015-09-01</th>\n",
       "      <td>4940.20</td>\n",
       "    </tr>\n",
       "    <tr>\n",
       "      <th>2015-08-01</th>\n",
       "      <td>5134.82</td>\n",
       "    </tr>\n",
       "    <tr>\n",
       "      <th>2015-07-01</th>\n",
       "      <td>5307.38</td>\n",
       "    </tr>\n",
       "    <tr>\n",
       "      <th>2015-06-01</th>\n",
       "      <td>5516.93</td>\n",
       "    </tr>\n",
       "    <tr>\n",
       "      <th>2015-05-01</th>\n",
       "      <td>5302.56</td>\n",
       "    </tr>\n",
       "    <tr>\n",
       "      <th>2015-04-01</th>\n",
       "      <td>5687.68</td>\n",
       "    </tr>\n",
       "    <tr>\n",
       "      <th>2015-03-01</th>\n",
       "      <td>5074.66</td>\n",
       "    </tr>\n",
       "    <tr>\n",
       "      <th>2015-02-01</th>\n",
       "      <td>5386.43</td>\n",
       "    </tr>\n",
       "  </tbody>\n",
       "</table>\n",
       "</div>"
      ],
      "text/plain": [
       "              price\n",
       "date               \n",
       "2012-03-01  6668.77\n",
       "2012-02-01  6595.06\n",
       "2012-01-01  8058.96\n",
       "2011-12-01  8510.98\n",
       "2015-09-01  4940.20\n",
       "2015-08-01  5134.82\n",
       "2015-07-01  5307.38\n",
       "2015-06-01  5516.93\n",
       "2015-05-01  5302.56\n",
       "2015-04-01  5687.68\n",
       "2015-03-01  5074.66\n",
       "2015-02-01  5386.43"
      ]
     },
     "execution_count": 139,
     "metadata": {},
     "output_type": "execute_result"
    }
   ],
   "source": [
    "dt[12:24]"
   ]
  },
  {
   "cell_type": "code",
   "execution_count": null,
   "metadata": {
    "collapsed": false
   },
   "outputs": [],
   "source": [
    "plt.figure()\n",
    "for n in range(2015-2006):\n",
    "    d=dt[n*12:(n+1)*12]\n",
    "    d.plot(secondary_y=True,legend=True)\n",
    "#plt.plot(dt)\n",
    "#plt.plot(xc.loc[12:23,['price']])"
   ]
  }
 ],
 "metadata": {
  "kernelspec": {
   "display_name": "Python 2",
   "language": "python",
   "name": "python2"
  },
  "language_info": {
   "codemirror_mode": {
    "name": "ipython",
    "version": 2
   },
   "file_extension": ".py",
   "mimetype": "text/x-python",
   "name": "python",
   "nbconvert_exporter": "python",
   "pygments_lexer": "ipython2",
   "version": "2.7.10"
  }
 },
 "nbformat": 4,
 "nbformat_minor": 0
}
